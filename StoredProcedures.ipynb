{
 "cells": [
  {
   "cell_type": "markdown",
   "id": "eaaf7bad-cd5e-4803-b008-94ab4e7ecbf6",
   "metadata": {},
   "source": [
    "### Implement and query stored procedures"
   ]
  },
  {
   "cell_type": "markdown",
   "id": "231914fd-8b97-480f-8485-09f6abef9a36",
   "metadata": {},
   "source": [
    "#### Step 1: Establish a connection "
   ]
  },
  {
   "cell_type": "code",
   "execution_count": 2,
   "id": "991323c3-7a2d-4fdd-ac2d-e81735e58324",
   "metadata": {},
   "outputs": [],
   "source": [
    "dbconfig={\"database\":\"little_lemon_db\", \"user\":\"root\", \"password\":\"\"}"
   ]
  },
  {
   "cell_type": "code",
   "execution_count": null,
   "id": "1eebe5cf-ac72-4811-9325-321ea49c9f31",
   "metadata": {},
   "outputs": [],
   "source": [
    "from mysql.connector.pooling import MySQLConnectionPool\n",
    "from mysql.connector import Error\n",
    "\n",
    "\n",
    "try: \n",
    "    pool_a = MySQLConnectionPool(pool_name=\"pool_a\", pool_size=2, **dbconfig)\n",
    "    conn = pool_a.get_connection()\n",
    "    cursor = conn.cursor()\n",
    "    print(\"Connection pool is created with pool size\", pool_a.pool_size)\n",
    "except Error as e:\n",
    "    print(\"Unable to create connection pool:\", e)\n",
    "\n",
    "conn = pool_a.get_connection()\n",
    "\n",
    "cursor = conn.cursor()\n",
    "print(\"Cursor is created to the pool\")"
   ]
  },
  {
   "cell_type": "markdown",
   "id": "a70c7576-7776-41e7-b2b2-0cd424b21c2a",
   "metadata": {},
   "source": [
    "#### Step 2: Implement a stored procedure - GetMaxQuantity()"
   ]
  },
  {
   "cell_type": "code",
   "execution_count": 4,
   "id": "20c6233d",
   "metadata": {},
   "outputs": [],
   "source": [
    "create_procedure_query = \"\"\"\n",
    "    CREATE PROCEDURE GetMaxQuantity()\n",
    "    BEGIN\n",
    "        SELECT MAX(Quantity) AS MaxQuantity\n",
    "        FROM Orders\n",
    "        Limit 1;\n",
    "    END;\n",
    "\"\"\"\n",
    "\n",
    "cursor.execute(create_procedure_query)\n",
    "\n",
    "cursor.callproc(\"GetMaxQuantity\")\n",
    "\n",
    "results = next(cursor.stored_results())\n",
    "\n",
    "dataset = results.fetchone()\n",
    "\n"
   ]
  },
  {
   "cell_type": "code",
   "execution_count": null,
   "id": "877fd380",
   "metadata": {},
   "outputs": [],
   "source": [
    "for column_id in cursor.stored_results():\n",
    "    column_names = [column[0] for column in column_id.description]\n",
    "    print(\"Column Names:\", column_names)\n",
    "\n",
    "for row in dataset:\n",
    "    print(row)\n"
   ]
  },
  {
   "cell_type": "markdown",
   "id": "b8f4ffc8",
   "metadata": {},
   "source": [
    "#### Step 3: Implement a stored procedure - ManageBooking()"
   ]
  },
  {
   "cell_type": "code",
   "execution_count": null,
   "id": "8d79c264",
   "metadata": {},
   "outputs": [],
   "source": [
    "create_procedure_query = \"\"\"\n",
    "    CREATE PROCEDURE ManageBooking(IN bookingDate DATE, IN tableNumber INT))\n",
    "    BEGIN\n",
    "        IF EXISTS(\n",
    "            SELECT * FROM Bookings \n",
    "            WHERE BookingDate = bookingDate \n",
    "            AND TableNumber = tableNumber\n",
    "        ) THEN\n",
    "        SELECT CONCAT('Table ', tableNumber, ' is already booked') AS 'Booking Status';\n",
    "    END;\n",
    "\"\"\"\n",
    "\n",
    "cursor.execute(create_procedure_query)\n",
    "\n",
    "cursor.callproc(\"ManageBooking\", (\"2021-12-25\", 1))\n",
    "\n",
    "results = next(cursor.stored_results())\n",
    "\n",
    "dataset = results.fetchone()\n",
    "\n"
   ]
  },
  {
   "cell_type": "code",
   "execution_count": null,
   "id": "9d85d81d",
   "metadata": {},
   "outputs": [],
   "source": [
    "for column_id in cursor.stored_results():\n",
    "    column_names = [column[0] for column in column_id.description]\n",
    "    print(\"Column Names:\", column_names)\n",
    "\n",
    "for row in dataset:\n",
    "    print(row)\n"
   ]
  },
  {
   "cell_type": "markdown",
   "id": "582d57bc",
   "metadata": {},
   "source": [
    "#### Step 4: Implement a stored procedure - UpdateBooking()"
   ]
  },
  {
   "cell_type": "code",
   "execution_count": null,
   "id": "afeff585",
   "metadata": {},
   "outputs": [],
   "source": [
    "create_procedure_query = \"\"\"\n",
    "    CREATE PROCEDURE UpdateBooking(IN bookingDate DATE, IN tableNumber INT))\n",
    "    BEGIN\n",
    "        UPDATE Bookings \n",
    "        SET Bookings.BookingDate = bookingDate \n",
    "        WHERE Bookings.BookingID = bookingID;\n",
    "        SELECT CONCAT('Booking ', bookingID, ' updated') AS Confirmation;\n",
    "    END;\n",
    "\"\"\"\n",
    "\n",
    "cursor.execute(create_procedure_query)\n",
    "\n",
    "cursor.callproc(\"UpdateBooking\", (\"2021-12-25\", 1))\n",
    "\n",
    "results = next(cursor.stored_results())\n",
    "\n",
    "dataset = results.fetchone()\n",
    "\n"
   ]
  },
  {
   "cell_type": "code",
   "execution_count": null,
   "id": "91444408",
   "metadata": {},
   "outputs": [],
   "source": [
    "for column_id in cursor.stored_results():\n",
    "    column_names = [column[0] for column in column_id.description]\n",
    "    print(\"Column Names:\", column_names)\n",
    "\n",
    "for row in dataset:\n",
    "    print(row)\n"
   ]
  },
  {
   "cell_type": "markdown",
   "id": "f77af1a9",
   "metadata": {},
   "source": [
    "#### Step 5: Implement a stored procedure - AddBooking()"
   ]
  },
  {
   "cell_type": "code",
   "execution_count": null,
   "id": "ff9fe643",
   "metadata": {},
   "outputs": [],
   "source": [
    "create_procedure_query = \"\"\"\n",
    "    CREATE PROCEDURE AddBooking(IN bookingID INT, In customerID INT, IN bookingDate DATE, IN tableNumber INT)\n",
    "    BEGIN\n",
    "        INSERT INTO Bookings (BookingID, TableNumber, BookingDate, CustomerID) VALUES (bookingID, tableNumber, bookingDate, customerID);\n",
    "        SELECT CONCAT('Booking ', bookingID, ' added') AS Confirmation;\n",
    "    END;\n",
    "\"\"\"\n",
    "\n",
    "cursor.execute(create_procedure_query)\n",
    "\n",
    "cursor.callproc(\"AddBooking\", (1, 1, \"2021-12-25\", 1))\n",
    "\n",
    "results = next(cursor.stored_results())\n",
    "\n",
    "dataset = results.fetchone()\n",
    "\n",
    "\n"
   ]
  },
  {
   "cell_type": "code",
   "execution_count": null,
   "id": "a22d5174",
   "metadata": {},
   "outputs": [],
   "source": [
    "for column_id in cursor.stored_results():\n",
    "    column_names = [column[0] for column in column_id.description]\n",
    "    print(\"Column Names:\", column_names)\n",
    "\n",
    "for row in dataset:\n",
    "    print(row)\n"
   ]
  },
  {
   "cell_type": "markdown",
   "id": "3c36a5a3",
   "metadata": {},
   "source": [
    "#### Step 6: Implement a stored procedure - CancelBooking()"
   ]
  },
  {
   "cell_type": "code",
   "execution_count": 21,
   "id": "8deb53f8",
   "metadata": {},
   "outputs": [],
   "source": [
    "create_procedure_query = \"\"\"\n",
    "    CREATE PROCEDURE CancelBooking(IN bookingID INT)\n",
    "    BEGIN\n",
    "        DELETE FROM Bookings WHERE Bookings.BookingID = bookingID;\n",
    "        SELECT CONCAT('Booking ', bookingID, ' cancelled') AS Confirmation;\n",
    "    END;\n",
    "\"\"\"\n",
    "\n",
    "cursor.execute(create_procedure_query)\n",
    "\n",
    "cursor.callproc(\"CancelBooking\", (1,))\n",
    "\n",
    "results = next(cursor.stored_results())\n",
    "\n",
    "dataset = results.fetchone()\n"
   ]
  },
  {
   "cell_type": "code",
   "execution_count": null,
   "id": "9f92b339",
   "metadata": {},
   "outputs": [],
   "source": [
    "for column_id in cursor.stored_results():\n",
    "    column_names = [column[0] for column in column_id.description]\n",
    "    print(\"Column Names:\", column_names)\n",
    "\n",
    "for row in dataset:\n",
    "    print(row)\n"
   ]
  },
  {
   "cell_type": "code",
   "execution_count": 26,
   "id": "e4f25d7c-818a-46cf-ab9d-40341fcc91ea",
   "metadata": {},
   "outputs": [],
   "source": [
    "conn.close()"
   ]
  },
  {
   "cell_type": "code",
   "execution_count": null,
   "id": "4bc306f3-b133-4c22-93c0-61d0b077ee53",
   "metadata": {},
   "outputs": [],
   "source": []
  }
 ],
 "metadata": {
  "kernelspec": {
   "display_name": "Python 3 (ipykernel)",
   "language": "python",
   "name": "python3"
  },
  "language_info": {
   "codemirror_mode": {
    "name": "ipython",
    "version": 3
   },
   "file_extension": ".py",
   "mimetype": "text/x-python",
   "name": "python",
   "nbconvert_exporter": "python",
   "pygments_lexer": "ipython3",
   "version": "3.11.5"
  }
 },
 "nbformat": 4,
 "nbformat_minor": 5
}
